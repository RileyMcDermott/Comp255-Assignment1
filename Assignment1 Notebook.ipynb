{
 "cells": [
  {
   "cell_type": "code",
   "execution_count": 1,
   "metadata": {},
   "outputs": [],
   "source": [
    "import numpy as np \n",
    "import pandas as pd \n",
    "from scipy import signal\n",
    "import matplotlib.pyplot as plt \n",
    "import math\n",
    "from sklearn import preprocessing\n",
    "from sklearn.neighbors import KNeighborsClassifier\n",
    "from sklearn.metrics import make_scorer, accuracy_score, confusion_matrix\n",
    "from sklearn.svm import SVC\n",
    "from sklearn.model_selection import GridSearchCV"
   ]
  },
  {
   "cell_type": "code",
   "execution_count": 33,
   "metadata": {},
   "outputs": [],
   "source": [
    "def data_load(i):\n",
    "    return pd.read_csv('dataset/dataset_%d.txt'%i, sep=',',header=None)"
   ]
  },
  {
   "cell_type": "code",
   "execution_count": 34,
   "metadata": {},
   "outputs": [],
   "source": [
    "def data_visulization():\n",
    "    # read dataset file\n",
    "    df = data_load(1)\n",
    "    df_sitting = df[df[24] == 1].values\n",
    "    # In this example code, only accelerometer 1 data (column 1 to 3) is used\n",
    "    fig, (ax1,ax2) = plt.subplots(1,2)\n",
    "    ax1.plot(df_sitting[:, 0:3])\n",
    "    ax2.plot(df_sitting[:,3:6])\n",
    "    plt.show()"
   ]
  },
  {
   "cell_type": "code",
   "execution_count": 24,
   "metadata": {},
   "outputs": [],
   "source": [
    "def noise_removing():\n",
    "    df = data_load(1)\n",
    "    # Butterworth low-pass filter. You could try different parameters and other filters. \n",
    "    b, a = signal.butter(4, 0.04, 'low', analog=False)\n",
    "    df_sitting = df[df[24] == 1].values\n",
    "    for i in range(3):\n",
    "        df_sitting[:,i] = signal.lfilter(b, a, df_sitting[:, i])\n",
    "    plt.plot(df_sitting[15000:20000, 0:3])\n",
    "    plt.show()"
   ]
  },
  {
   "cell_type": "code",
   "execution_count": 31,
   "metadata": {},
   "outputs": [],
   "source": [
    "def feature_engineering():\n",
    "    training = np.empty(shape=(0, 10))\n",
    "    testing = np.empty(shape=(0, 10))\n",
    "    # deal with each dataset file\n",
    "    for i in range(19):\n",
    "        df = data_load(i+1)\n",
    "        print('deal with dataset ' + str(i + 1))\n",
    "        for c in range(1, 14):\n",
    "            activity_data = df[df[24] == c].values\n",
    "            b, a = signal.butter(4, 0.04, 'low', analog=False)\n",
    "            for j in range(24):\n",
    "                activity_data[:, j] = signal.lfilter(b, a, activity_data[:, j])\n",
    "            \n",
    "            datat_len = len(activity_data)\n",
    "            training_len = math.floor(datat_len * 0.8)\n",
    "            training_data = activity_data[:training_len, :]\n",
    "            testing_data = activity_data[training_len:, :]\n",
    "\n",
    "            # data segementation: for time series data, we need to segment the whole time series, and then extract features from each period of time\n",
    "            # to represent the raw data. In this example code, we define each period of time contains 1000 data points. Each period of time contains \n",
    "            # different data points. You may consider overlap segmentation, which means consecutive two segmentation share a part of data points, to \n",
    "            # get more feature samples.\n",
    "            training_sample_number = training_len // 1000 + 1\n",
    "            testing_sample_number = (datat_len - training_len) // 1000 + 1\n",
    "\n",
    "            for s in range(training_sample_number):\n",
    "                if s < training_sample_number - 1:\n",
    "                    sample_data = training_data[1000*s:1000*(s + 1), :]\n",
    "                else:\n",
    "                    sample_data = training_data[1000*s:, :]\n",
    "                # in this example code, only three accelerometer data in wrist sensor is used to extract three simple features: min, max, and mean value in\n",
    "                # a period of time. Finally we get 9 features and 1 label to construct feature dataset. You may consider all sensors' data and extract more\n",
    "\n",
    "                feature_sample = []\n",
    "                for i in range(3):\n",
    "                    feature_sample.append(np.min(sample_data[:, i]))\n",
    "                    feature_sample.append(np.max(sample_data[:, i]))\n",
    "                    feature_sample.append(np.mean(sample_data[:, i]))\n",
    "                feature_sample.append(sample_data[0, -1])\n",
    "                feature_sample = np.array([feature_sample])\n",
    "                training = np.concatenate((training, feature_sample), axis=0)\n",
    "            \n",
    "            for s in range(testing_sample_number):\n",
    "                if s < training_sample_number - 1:\n",
    "                    sample_data = testing_data[1000*s:1000*(s + 1), :]\n",
    "                else:\n",
    "                    sample_data = testing_data[1000*s:, :]\n",
    "\n",
    "                feature_sample = []\n",
    "                for i in range(3):\n",
    "                    feature_sample.append(np.min(sample_data[:, i]))\n",
    "                    feature_sample.append(np.max(sample_data[:, i]))\n",
    "                    feature_sample.append(np.mean(sample_data[:, i]))\n",
    "                feature_sample.append(sample_data[0, -1])\n",
    "                feature_sample = np.array([feature_sample])\n",
    "                testing = np.concatenate((testing, feature_sample), axis=0)\n",
    "\n",
    "    df_training = pd.DataFrame(training)\n",
    "    df_testing = pd.DataFrame(testing)\n",
    "    df_training.to_csv('training_data.csv', index=None, header=None)\n",
    "    df_testing.to_csv('testing_data.csv', index=None, header=None)"
   ]
  },
  {
   "cell_type": "code",
   "execution_count": null,
   "metadata": {},
   "outputs": [],
   "source": [
    "def model_training_and_evaluation_example():\n",
    "    df_training = pd.read_csv('training_data.csv', header=None)\n",
    "    df_testing = pd.read_csv('testing_data.csv', header=None)\n",
    "\n",
    "    y_train = df_training[9].values\n",
    "    # Labels should start from 0 in sklearn\n",
    "    y_train = y_train - 1\n",
    "    df_training = df_training.drop([9], axis=1)\n",
    "    X_train = df_training.values\n",
    "\n",
    "    y_test = df_testing[9].values\n",
    "    y_test = y_test - 1\n",
    "    df_testing = df_testing.drop([9], axis=1)\n",
    "    X_test = df_testing.values\n",
    "    \n",
    "    # Feature normalization for improving the performance of machine learning models. In this example code, \n",
    "    # StandardScaler is used to scale original feature to be centered around zero. You could try other normalization methods.\n",
    "    scaler = preprocessing.StandardScaler().fit(X_train)\n",
    "    X_train = scaler.transform(X_train)\n",
    "    X_test = scaler.transform(X_test)\n",
    "\n",
    "    # Build KNN classifier, in this example code\n",
    "    knn = KNeighborsClassifier(n_neighbors=3)\n",
    "    knn.fit(X_train, y_train)\n",
    "\n",
    "    # Evaluation. when we train a machine learning model on training set, we should evaluate its performance on testing set.\n",
    "    # We could evaluate the model by different metrics. Firstly, we could calculate the classification accuracy. In this example\n",
    "    # code, when n_neighbors is set to 4, the accuracy achieves 0.757.\n",
    "    y_pred = knn.predict(X_test)\n",
    "    print('Accuracy: ', accuracy_score(y_test, y_pred))\n",
    "    # We could use confusion matrix to view the classification for each activity.\n",
    "    print(confusion_matrix(y_test, y_pred))\n",
    "    \n",
    "\n",
    "    # Another machine learning model: svm. In this example code, we use gridsearch to find the optimial classifier\n",
    "    # It will take a long time to find the optimal classifier.\n",
    "    # the accuracy for SVM classifier with default parameters is 0.71, \n",
    "    # which is worse than KNN. The reason may be parameters of svm classifier are not optimal.  \n",
    "    # Another reason may be we only use 9 features and they are not enough to build a good svm classifier. \n",
    "    tuned_parameters = [{'kernel': ['rbf'], 'gamma': [1e-1,1e-2, 1e-3, 1e-4],\n",
    "                     'C': [1e-3, 1e-2, 1e-1, 1, 10, 100, 100]},\n",
    "                    {'kernel': ['linear'], 'C': [1e-3, 1e-2, 1e-1, 1, 10, 100]}]\n",
    "    acc_scorer = make_scorer(accuracy_score)\n",
    "    grid_obj  = GridSearchCV(SVC(), tuned_parameters, cv=10, scoring=acc_scorer)\n",
    "    grid_obj  = grid_obj .fit(X_train, y_train)\n",
    "    clf = grid_obj.best_estimator_\n",
    "    print('best clf:', clf)\n",
    "    clf.fit(X_train, y_train)\n",
    "    y_pred = clf.predict(X_test)\n",
    "    print('Accuracy: ', accuracy_score(y_test, y_pred))\n",
    "    print(confusion_matrix(y_test, y_pred))\n",
    "\n",
    "# print(\"# Tuning hyper-parameters for %s\" % score)\n",
    "# print()\n",
    "# clf = GridSearchCV(SVC(), tuned_parameters, cv=10,\n",
    "#                    scoring=score)\n",
    "# clf.fit(x_train, y_train)\n",
    "\n",
    "if __name__ == '__main__':\n",
    "    \n",
    "    # data_visulization()\n",
    "    # noise_removing()\n",
    "    # feature_engineering_example()\n",
    "    model_training_and_evaluation_example()"
   ]
  },
  {
   "cell_type": "code",
   "execution_count": 35,
   "metadata": {},
   "outputs": [
    {
     "data": {
      "image/png": "[encoded data removed]",
      "text/plain": [
       "<Figure size 432x288 with 2 Axes>"
      ]
     },
     "metadata": {
      "needs_background": "light"
     },
     "output_type": "display_data"
    }
   ],
   "source": [
    "data_visulization()"
   ]
  },
  {
   "cell_type": "code",
   "execution_count": 32,
   "metadata": {},
   "outputs": [
    {
     "data": {
      "image/png": "[encoded data removed]",
      "text/plain": [
       "<Figure size 432x288 with 1 Axes>"
      ]
     },
     "metadata": {
      "needs_background": "light"
     },
     "output_type": "display_data"
    }
   ],
   "source": [
    "noise_removing()"
   ]
  },
  {
   "cell_type": "code",
   "execution_count": 30,
   "metadata": {},
   "outputs": [
    {
     "name": "stdout",
     "output_type": "stream",
     "text": [
      "deal with dataset 1\n",
      "deal with dataset 2\n",
      "deal with dataset 3\n",
      "deal with dataset 4\n",
      "deal with dataset 5\n",
      "deal with dataset 6\n",
      "deal with dataset 7\n",
      "deal with dataset 8\n",
      "deal with dataset 9\n",
      "deal with dataset 10\n",
      "deal with dataset 11\n",
      "deal with dataset 12\n",
      "deal with dataset 13\n",
      "deal with dataset 14\n",
      "deal with dataset 15\n",
      "deal with dataset 16\n",
      "deal with dataset 17\n",
      "deal with dataset 18\n",
      "deal with dataset 19\n"
     ]
    }
   ],
   "source": [
    "feature_engineering()"
   ]
  },
  {
   "cell_type": "code",
   "execution_count": null,
   "metadata": {},
   "outputs": [],
   "source": []
  }
 ],
 "metadata": {
  "kernelspec": {
   "display_name": "Python 3",
   "language": "python",
   "name": "python3"
  },
  "language_info": {
   "codemirror_mode": {
    "name": "ipython",
    "version": 3
   },
   "file_extension": ".py",
   "mimetype": "text/x-python",
   "name": "python",
   "nbconvert_exporter": "python",
   "pygments_lexer": "ipython3",
   "version": "3.7.3"
  }
 },
 "nbformat": 4,
 "nbformat_minor": 2
}
